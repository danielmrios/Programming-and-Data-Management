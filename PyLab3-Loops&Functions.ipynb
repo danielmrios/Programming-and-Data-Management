{
 "cells": [
  {
   "cell_type": "markdown",
   "id": "a3264e29-abfc-4a81-8037-3a381d5b4cec",
   "metadata": {},
   "source": [
    "Pyhon Lab #3 Daniel Rios"
   ]
  },
  {
   "cell_type": "markdown",
   "id": "b13a406e-7295-40d1-99f4-1fb89cac634e",
   "metadata": {},
   "source": [
    "Question 1\n",
    "\n",
    "In the code we use the built-in range function to generate a loop of numbers from 1 to 10. The for loop then iterates over each number in the sequence and prints it to the console using the print function. "
   ]
  },
  {
   "cell_type": "code",
   "execution_count": 1,
   "id": "1c6347d7-7357-4018-a3c2-8b107234d758",
   "metadata": {},
   "outputs": [
    {
     "name": "stdout",
     "output_type": "stream",
     "text": [
      "1\n",
      "2\n",
      "3\n",
      "4\n",
      "5\n",
      "6\n",
      "7\n",
      "8\n",
      "9\n",
      "10\n"
     ]
    }
   ],
   "source": [
    "for x in range(1, 11):\n",
    "    print(x)"
   ]
  },
  {
   "cell_type": "markdown",
   "id": "fb6add56-d449-49ce-abdb-f2ecbc2d5dbf",
   "metadata": {},
   "source": [
    "Question 2\n",
    "\n",
    "In this code, we use a range function that generates a sequence that starts at 6, goes up to 20, but doesn't include, 21, and has increments of 3 each time."
   ]
  },
  {
   "cell_type": "code",
   "execution_count": 2,
   "id": "21a798c7-e759-4b88-9efb-17e0ccf6d086",
   "metadata": {},
   "outputs": [
    {
     "name": "stdout",
     "output_type": "stream",
     "text": [
      "6\n",
      "9\n",
      "12\n",
      "15\n",
      "18\n"
     ]
    }
   ],
   "source": [
    "for x in range(6, 21, 3):\n",
    "    print(x)"
   ]
  },
  {
   "cell_type": "markdown",
   "id": "61097698-4de2-46c3-8504-8ad64c4e8f59",
   "metadata": {},
   "source": [
    "Question 3\n",
    "\n",
    "For each set, we print a string that indicates the set number using (f\"Set: {set_num}\"). For each number in the set, we check if it is divisible by 2 using the modulus operator %. If the number is even, we print the string \"Student\" followed by the number, 5 times. If the number is odd, we just print the number."
   ]
  },
  {
   "cell_type": "code",
   "execution_count": 5,
   "id": "2eafea7f-fe07-48cf-b7c6-c4b5e014c968",
   "metadata": {},
   "outputs": [
    {
     "name": "stdout",
     "output_type": "stream",
     "text": [
      "Set: 1\n",
      "1\n",
      "Student 2\n",
      "3\n",
      "Student 4\n",
      "5\n",
      "Student 6\n",
      "7\n",
      "Student 8\n",
      "9\n",
      "Student 10\n",
      "Set: 2\n",
      "1\n",
      "Student 2\n",
      "3\n",
      "Student 4\n",
      "5\n",
      "Student 6\n",
      "7\n",
      "Student 8\n",
      "9\n",
      "Student 10\n",
      "Set: 3\n",
      "1\n",
      "Student 2\n",
      "3\n",
      "Student 4\n",
      "5\n",
      "Student 6\n",
      "7\n",
      "Student 8\n",
      "9\n",
      "Student 10\n",
      "Set: 4\n",
      "1\n",
      "Student 2\n",
      "3\n",
      "Student 4\n",
      "5\n",
      "Student 6\n",
      "7\n",
      "Student 8\n",
      "9\n",
      "Student 10\n",
      "Set: 5\n",
      "1\n",
      "Student 2\n",
      "3\n",
      "Student 4\n",
      "5\n",
      "Student 6\n",
      "7\n",
      "Student 8\n",
      "9\n",
      "Student 10\n"
     ]
    }
   ],
   "source": [
    "for set_num in range(1, 6):\n",
    "    print(f\"Set: {set_num}\")\n",
    "    for num in range(1, 11):\n",
    "        if num % 2 == 0:\n",
    "            print(\"Student\", num)\n",
    "        else:\n",
    "            print(num)"
   ]
  },
  {
   "cell_type": "markdown",
   "id": "ab552750-5e9a-4f1b-883e-3abd762b89b5",
   "metadata": {},
   "source": [
    "Question 4\n",
    "\n",
    "For the code we first set the value of num to 1. We then enter a while loop that continues until num is greater than 10. Inside the loop, we check if num is divisible by 3 using an if statement and the modulus operator %. If num is divisible by 3, we print num to the console using the print function and increment the value of num by 1 using the += operator."
   ]
  },
  {
   "cell_type": "code",
   "execution_count": 6,
   "id": "dac84236-2fa8-43f0-83b7-c3da9c5d5a06",
   "metadata": {},
   "outputs": [
    {
     "name": "stdout",
     "output_type": "stream",
     "text": [
      "3\n",
      "6\n",
      "9\n"
     ]
    }
   ],
   "source": [
    "num = 1\n",
    "while num <= 10:\n",
    "    if num % 3 == 0:\n",
    "        print(num)\n",
    "    num += 1"
   ]
  },
  {
   "cell_type": "markdown",
   "id": "8b22bc8f-c684-4467-81a8-cfe8323d7366",
   "metadata": {},
   "source": [
    "Question 5\n",
    "\n",
    "This code prints all the numbers between 100 and 2 (Including 100 and 2) that are able to be reduced by x/4. using a for loop and the range function and an if statement. The numbers are printed in descending order."
   ]
  },
  {
   "cell_type": "code",
   "execution_count": 12,
   "id": "abe7b430-60f1-4f6a-9ee9-93e91c04dfd2",
   "metadata": {},
   "outputs": [
    {
     "name": "stdout",
     "output_type": "stream",
     "text": [
      "100 99.5 97.0 94.5 92.0 89.5 87.0 84.5 82.0 79.5 77.0 74.5 72.0 69.5 67.0 64.5 62.0 59.5 57.0 54.5 52.0 49.5 47.0 44.5 42.0 39.5 37.0 34.5 32.0 29.5 27.0 24.5 22.0 19.5 17.0 14.5 12.0 9.5 7.0 4.5 2.0 "
     ]
    }
   ],
   "source": [
    "x = 2\n",
    "y = 100\n",
    "\n",
    "while y >= 0:\n",
    "    print(y, end=\" \")\n",
    "    y -= x/4\n",
    "    while x <= 9:\n",
    "            x += 1"
   ]
  },
  {
   "cell_type": "markdown",
   "id": "6c6d7aad-66e3-4dff-9586-f322c207214b",
   "metadata": {},
   "source": [
    "Question 6\n",
    "\n",
    "We define the doCalc function that receives 3 parameters: num1, num2, and num3. Inside the function, we add num1 and num2, then multiply by num3, and store the result in the answer variable. We then print the result. Finally, we call doCalc and pass in the arguments 10, 12, and 40, which should print 880."
   ]
  },
  {
   "cell_type": "code",
   "execution_count": 14,
   "id": "3bcad036-a7b7-4335-9f6b-fb13adaa262b",
   "metadata": {},
   "outputs": [
    {
     "name": "stdout",
     "output_type": "stream",
     "text": [
      "880\n"
     ]
    }
   ],
   "source": [
    "def doCalc(num1, num2, num3):\n",
    "    answer = (num1 + num2) * num3\n",
    "    print(answer)\n",
    "\n",
    "doCalc(10, 12, 40)"
   ]
  },
  {
   "cell_type": "markdown",
   "id": "097e6b35-1b7c-431b-9d05-cb0cc7199a4d",
   "metadata": {},
   "source": [
    "Question 7\n",
    "\n",
    "The code defines a function called creditsPerQuarter which takes three parameters: student, numCreds, numCourses. Inside the function, it calculates the total number (totalCredits) of credits for the quarter by multiplying the number of credits per course (numCreds) and the number of courses (numCourses). Then a string is formatted combining the parameters and returns the string: (student name) is taking (number of courses) courses and each course is (number of credits each course is) for a total of (calculated total credits).\n",
    "\n",
    "creditsPerQuarter is called 3 times for:\n",
    "Student Name: Wade, Credit per Course: 3, Number of courses: 4.\n",
    "Student Name: Jane, Credit per Course: 3, Number of courses: 5.\n",
    "Student Name: Evan, Credit per Course: 5, Number of courses: 3.\n",
    "\n",
    "And the expected output is:\n",
    "Wade is taking 4 courses and each course is 3 credits for a total of 12.\n",
    "Jane is taking 5 courses and each course is 3 credits for a total of 15.\n",
    "Evan is taking 3 courses and each course is 5 credits for a total of 15."
   ]
  },
  {
   "cell_type": "code",
   "execution_count": 16,
   "id": "86e90870-22b0-49d3-a099-98f43c053823",
   "metadata": {},
   "outputs": [
    {
     "name": "stdout",
     "output_type": "stream",
     "text": [
      "Wade is taking 4 courses and each course is 3 credits for a total of 12.\n",
      "Jane is taking 5 courses and each course is 3 credits for a total of 15.\n",
      "Evan is taking 3 courses and each course is 5 credits for a total of 15.\n"
     ]
    }
   ],
   "source": [
    "def creditsPerQuarter(student, numCreds, numCourses):\n",
    "    totalCredits = numCreds * numCourses\n",
    "    return(f\"{student} is taking {numCourses} courses and each course is {numCreds} credits for a total of {totalCredits}.\")\n",
    "    \n",
    "print(creditsPerQuarter(\"Wade\", 3, 4))\n",
    "print(creditsPerQuarter(\"Jane\", 3, 5))\n",
    "print(creditsPerQuarter(\"Evan\", 5, 3))"
   ]
  },
  {
   "cell_type": "markdown",
   "id": "b682bb81-d2f1-4f34-8571-3726e3d0324f",
   "metadata": {},
   "source": [
    "Question 8\n",
    "\n",
    "The code defines a function called getRands that generates 10 random integers between 1 and the variable ceiling value using the random module only printing any number that is less than 3."
   ]
  },
  {
   "cell_type": "code",
   "execution_count": 17,
   "id": "d6a75242-0799-48fb-b95e-7270dbbcd370",
   "metadata": {},
   "outputs": [
    {
     "name": "stdout",
     "output_type": "stream",
     "text": [
      "1\n",
      "2\n"
     ]
    }
   ],
   "source": [
    "import random;\n",
    "\n",
    "def getRands(ceiling):\n",
    "    for x in range(10):\n",
    "        rand_num = random.randint(1, ceiling)\n",
    "        if rand_num < 3:\n",
    "            print(rand_num)\n",
    "            \n",
    "getRands(10)"
   ]
  }
 ],
 "metadata": {
  "kernelspec": {
   "display_name": "Python 3 (ipykernel)",
   "language": "python",
   "name": "python3"
  },
  "language_info": {
   "codemirror_mode": {
    "name": "ipython",
    "version": 3
   },
   "file_extension": ".py",
   "mimetype": "text/x-python",
   "name": "python",
   "nbconvert_exporter": "python",
   "pygments_lexer": "ipython3",
   "version": "3.9.13"
  }
 },
 "nbformat": 4,
 "nbformat_minor": 5
}
