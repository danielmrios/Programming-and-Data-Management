{
 "cells": [
  {
   "cell_type": "markdown",
   "id": "67a24d2e-0836-474c-8032-e50366b82a9f",
   "metadata": {},
   "source": [
    "Python Lab #1\n",
    "Daniel Rios"
   ]
  },
  {
   "cell_type": "markdown",
   "id": "71391cb4-c662-4938-b875-cc093657994c",
   "metadata": {},
   "source": [
    "Question 1\n",
    "\n",
    "The code returns the statement \"My name is Daniel Rios.\n",
    "I am a student at Seattle University.\" using the print and newline escape character function."
   ]
  },
  {
   "cell_type": "code",
   "execution_count": 23,
   "id": "d6cfd1ad-2513-4195-9580-989fb1416b3c",
   "metadata": {},
   "outputs": [
    {
     "name": "stdout",
     "output_type": "stream",
     "text": [
      "My name is Daniel Rios.\n",
      "I am a student at Seattle University.\n"
     ]
    }
   ],
   "source": [
    "print(\"My name is Daniel Rios.\\nI am a student at Seattle University.\")"
   ]
  },
  {
   "cell_type": "markdown",
   "id": "6f2d7917-3db1-466b-a32b-afcf2e1b2fd4",
   "metadata": {},
   "source": [
    "Question 2\n",
    "\n",
    "The code returns the statement \"Programming leads to massive 'intelligence'.\" using the print function."
   ]
  },
  {
   "cell_type": "code",
   "execution_count": 6,
   "id": "0fe6c063-102b-402b-8c0d-d199d069a341",
   "metadata": {},
   "outputs": [
    {
     "name": "stdout",
     "output_type": "stream",
     "text": [
      "Programming leads to massive 'intelligence'.\n"
     ]
    }
   ],
   "source": [
    "print(\"Programming leads to massive 'intelligence'.\")"
   ]
  },
  {
   "cell_type": "markdown",
   "id": "850f26c7-b596-4ebb-84d5-94d85cfde5bb",
   "metadata": {},
   "source": [
    "Question 3\n",
    "\n",
    "Use two variables, breed and name, and save the strings \"Corgi\" and \"Jasper\" respectively. Both variables are then printed."
   ]
  },
  {
   "cell_type": "code",
   "execution_count": 7,
   "id": "5d853e3f-9843-4ee2-8caf-f4997393a64a",
   "metadata": {},
   "outputs": [
    {
     "name": "stdout",
     "output_type": "stream",
     "text": [
      "Corgi\n",
      "Jasper\n"
     ]
    }
   ],
   "source": [
    "breed = \"Corgi\"\n",
    "name = \"Jasper\"\n",
    "\n",
    "print(breed)\n",
    "print(name)"
   ]
  },
  {
   "cell_type": "markdown",
   "id": "3e11ab85-baa2-4d59-a741-d7a40bf92f98",
   "metadata": {},
   "source": [
    "Question 4\n",
    "\n",
    "Create two variables var1 and var2 and assign them the values 12 and 200. The sum of these two variables is then calculated and stored in a third variable: 'ans'. Using the print function the value of ans is printed."
   ]
  },
  {
   "cell_type": "code",
   "execution_count": 8,
   "id": "a4c32493-66b8-40a9-8fd4-04e17d9f0c48",
   "metadata": {},
   "outputs": [
    {
     "name": "stdout",
     "output_type": "stream",
     "text": [
      "212\n"
     ]
    }
   ],
   "source": [
    "var1 = 12\n",
    "var2 = 200\n",
    "\n",
    "ans = var1 + var2\n",
    "print(ans)"
   ]
  },
  {
   "cell_type": "markdown",
   "id": "99155bdd-296c-4539-be40-0e75a3ab63f4",
   "metadata": {},
   "source": [
    "Question 5\n",
    "\n",
    "The code creates two variables x and y and assigns them the values \"100\" and 100. The value stored in x is then cast using the int function and stored in a third variable: z. The sum of y and z is then calculated and stored in a fourth variable ans. The value stored in ans is then printed using the print function."
   ]
  },
  {
   "cell_type": "code",
   "execution_count": 9,
   "id": "75fa4d74-1114-40ef-945a-dfab00b4d09a",
   "metadata": {},
   "outputs": [
    {
     "name": "stdout",
     "output_type": "stream",
     "text": [
      "200\n"
     ]
    }
   ],
   "source": [
    "x = \"100\"\n",
    "y = 1004\n",
    "\n",
    "z = int(x)\n",
    "\n",
    "ans = y + z \n",
    "print(ans)"
   ]
  },
  {
   "cell_type": "markdown",
   "id": "b95ad7ca-3af6-4f2c-9e98-954edbc6b2c1",
   "metadata": {},
   "source": [
    "Question 6\n",
    "\n",
    "This code creates two variables x and y and assigns them the values \"100\" and 100. The values of x and y are then cast as strings using the str function and formed into a single string in a third variable ans. Then the value ans is printed using the print function. "
   ]
  },
  {
   "cell_type": "code",
   "execution_count": 15,
   "id": "6278df88-de31-4056-a140-4ba1cfa589d6",
   "metadata": {},
   "outputs": [
    {
     "name": "stdout",
     "output_type": "stream",
     "text": [
      "100100\n"
     ]
    }
   ],
   "source": [
    "x = \"100\";\n",
    "y = 100;\n",
    "\n",
    "ans = x + str(y) \n",
    "print(ans)"
   ]
  },
  {
   "cell_type": "markdown",
   "id": "a9f076e7-a051-4017-9fdd-057a6d52881b",
   "metadata": {},
   "source": [
    "Question 7\n",
    "\n",
    "This code creates the variable 'ans' and assigns it the expression: 12 * 5 - 3 / 2. The result of this expression is stored in the variable ans. Then the value stored in ans is printed using the print function. The type of the variable ans at the end is a float."
   ]
  },
  {
   "cell_type": "code",
   "execution_count": 16,
   "id": "71742993-f707-4d72-976d-c896abccfcbe",
   "metadata": {},
   "outputs": [
    {
     "name": "stdout",
     "output_type": "stream",
     "text": [
      "58.5\n"
     ]
    }
   ],
   "source": [
    "ans = 12 * 5 - 3 / 2 \n",
    "print(ans)"
   ]
  },
  {
   "cell_type": "markdown",
   "id": "c7a441c5-af0f-444f-9f93-160f3eed1a23",
   "metadata": {},
   "source": [
    "Question 8\n",
    "\n",
    "The code creates a single variable 'num' and saves the value of 5 to it. The code then uses a try, except block to use an alternative if you cant divide 5 by zero. If this happens, the code within the except block will be executed, which will print \"You cannot divide a number by 0\"."
   ]
  },
  {
   "cell_type": "code",
   "execution_count": 18,
   "id": "3852452e-3480-48f0-ba55-921b15904501",
   "metadata": {},
   "outputs": [
    {
     "name": "stdout",
     "output_type": "stream",
     "text": [
      "You cannot divide a number by zero.\n"
     ]
    }
   ],
   "source": [
    "num = 5\n",
    "try:\n",
    "    print(num/o)\n",
    "except:\n",
    "    print('You cannot divide a number by zero.')"
   ]
  },
  {
   "cell_type": "markdown",
   "id": "beb847fd-3ae5-4228-b9f1-d91a6f2990e6",
   "metadata": {},
   "source": [
    "Question 9\n",
    "\n",
    "This code creates a single variable 'num' and gives it the value of 8. The code uses an augmented operator (*=) \n",
    "to multiply the value stored in 'num' by 5, and stores the result back in the 'num' variable. The value stored in num is then printed using the print function. "
   ]
  },
  {
   "cell_type": "code",
   "execution_count": 20,
   "id": "c7729ef6-cb92-4fe0-b05f-5bdade348b95",
   "metadata": {},
   "outputs": [
    {
     "name": "stdout",
     "output_type": "stream",
     "text": [
      "40\n"
     ]
    }
   ],
   "source": [
    "num = 8\n",
    "num *= 5\n",
    "print(num)"
   ]
  },
  {
   "cell_type": "markdown",
   "id": "6efee51f-2c62-4998-8f97-282db90838f1",
   "metadata": {},
   "source": [
    "Question 10\n",
    "\n",
    "The code creates a single variable 'num' and assigns it the value of 12. The code uses the increment operator (+=) to add 1 and 3 to the value stored in num. Next, the code uses the modulus operator (%) to find the remainder of num divided by 12, and saves the result to a variable called ans. Then the value stored in ans is printed using the print function."
   ]
  },
  {
   "cell_type": "code",
   "execution_count": 21,
   "id": "94171628-c4ac-4ce0-96a8-b7d6aeebc23c",
   "metadata": {},
   "outputs": [
    {
     "name": "stdout",
     "output_type": "stream",
     "text": [
      "4\n"
     ]
    }
   ],
   "source": [
    "num = 12\n",
    "num += 1\n",
    "num += 3\n",
    "\n",
    "ans = num % 12\n",
    "print(ans)"
   ]
  }
 ],
 "metadata": {
  "kernelspec": {
   "display_name": "Python 3 (ipykernel)",
   "language": "python",
   "name": "python3"
  },
  "language_info": {
   "codemirror_mode": {
    "name": "ipython",
    "version": 3
   },
   "file_extension": ".py",
   "mimetype": "text/x-python",
   "name": "python",
   "nbconvert_exporter": "python",
   "pygments_lexer": "ipython3",
   "version": "3.9.13"
  }
 },
 "nbformat": 4,
 "nbformat_minor": 5
}
