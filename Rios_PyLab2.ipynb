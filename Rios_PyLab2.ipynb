{
 "cells": [
  {
   "cell_type": "markdown",
   "id": "7daf8796-0fbd-46c0-b7e2-581930a4889f",
   "metadata": {},
   "source": [
    "Python Lab #2 Daniel Rios"
   ]
  },
  {
   "cell_type": "markdown",
   "id": "d0b35863-b772-456d-af3f-8097f0eb6fc2",
   "metadata": {},
   "source": [
    "Question 1\n",
    "\n",
    "Create a variable to hold the number 31. Concatenate the variable into the print statement to display the number of days in August. Use f-strings to include the variable in the string \"August has ___ days\"."
   ]
  },
  {
   "cell_type": "code",
   "execution_count": 1,
   "id": "612d31e7-1083-48c6-abf2-9ef7299cf057",
   "metadata": {},
   "outputs": [
    {
     "name": "stdout",
     "output_type": "stream",
     "text": [
      "August has 31 days\n"
     ]
    }
   ],
   "source": [
    "var1 = 31\n",
    "print(f\"August has {var1} days\")"
   ]
  },
  {
   "cell_type": "markdown",
   "id": "df851044-3f10-45d9-8de2-1365ac19c87e",
   "metadata": {},
   "source": [
    "Question 2\n",
    "\n",
    "We first create four variables (month1, month2, month3, and month4) and assign each of them a string that represents the month names September\", \"April\", \"June\", and \"November\". Next, we create a new variable called statement that includes the names of the four months useing f-strings to concatenate the variables into the string: \"Thirty days have {september}, {april}, {june}, and {november}.\" Finally, we use the print() function to display the statement variable."
   ]
  },
  {
   "cell_type": "code",
   "execution_count": 3,
   "id": "dd0b6e77-abfa-4a91-b519-b3db74081800",
   "metadata": {},
   "outputs": [
    {
     "name": "stdout",
     "output_type": "stream",
     "text": [
      "Thirty days have September, April, June, and November.\n"
     ]
    }
   ],
   "source": [
    "month1 = \"September\"\n",
    "month2 = \"April\"\n",
    "month3 = \"June\"\n",
    "month4 = \"November\"\n",
    "\n",
    "statement = (f\"Thirty days have {month1}, {month2}, {month3}, and {month4}.\")\n",
    "\n",
    "print(statement)"
   ]
  },
  {
   "cell_type": "markdown",
   "id": "dd138e6f-a67b-462a-990f-e1ccc601058a",
   "metadata": {},
   "source": [
    "Question 3\n",
    "\n",
    "We first create a variable 'month' and assign it the value of \"October\". Next, we use an if/else statement to test whether the month variable is equal to the string \"October\". If it is equal, we print \"31 days\". If it's not equal, we print \"30 days\". The expected output here is 31 days."
   ]
  },
  {
   "cell_type": "code",
   "execution_count": 11,
   "id": "5f2f7fb9-2c39-4a14-8aef-2d4d41cf9398",
   "metadata": {},
   "outputs": [
    {
     "name": "stdout",
     "output_type": "stream",
     "text": [
      "31 days\n"
     ]
    }
   ],
   "source": [
    "month = \"October\"\n",
    "\n",
    "if month == 'October':\n",
    "    print (\"31 days\")\n",
    "else:\n",
    "    print(\"30 days\")"
   ]
  },
  {
   "cell_type": "markdown",
   "id": "bbd2d188-f6b2-4afb-aeb4-c8650e847818",
   "metadata": {},
   "source": [
    "Question 4\n",
    "\n",
    "In the code we first create a variable called 'number' and assign it the value of 70. Next, we use two if statements to check if the number is divisible by 5 and by 10 then 7 and 2 using the modulo operator %. If the number is divisible by 5 and 10 we print \"Number is divisible by 5 and 10.\". If the the number is divisible by 7 or by 2 we print \"Number is divisible by 7 or by 2.\""
   ]
  },
  {
   "cell_type": "code",
   "execution_count": 15,
   "id": "5299389e-0d33-4c6c-8325-f6ff91b9593f",
   "metadata": {},
   "outputs": [
    {
     "name": "stdout",
     "output_type": "stream",
     "text": [
      "Number is divisible by 5 and 10\n"
     ]
    }
   ],
   "source": [
    "number = 70\n",
    "if number % 5 == 0 and number % 10 == 0:\n",
    "    print (\"Number is divisible by 5 and 10\")\n",
    "elif number % 7 == 0 and number % 2 == 0:\n",
    "    print (\"Number is divisible by 7 and 2\")"
   ]
  },
  {
   "cell_type": "markdown",
   "id": "85f0f6c2-2489-4da9-a750-bfb447f11251",
   "metadata": {},
   "source": [
    "Question 5\n",
    "\n",
    "For the code, we first prompt the user to enter a number using the input() function, and store the value entered by the user in a variable called 'numb'. Next, we convert the user input to an integer using the int() function, we then use if/elif/else statements. If the numb variable is less than 2, we print \"Less than 2\". If the numb variable is greater than or equal to 3 and also greater than 11, we print \"3 or greater than 11\". If the numb variable is greater than 3 and less than or equal to 10, we print \"Less than 10\". If none of the above conditions are true, we print \"Error\"."
   ]
  },
  {
   "cell_type": "code",
   "execution_count": 18,
   "id": "f1f48c95-cb5e-419d-a524-29adf1bf5a12",
   "metadata": {},
   "outputs": [
    {
     "name": "stdin",
     "output_type": "stream",
     "text": [
      "Enter a number:  5\n"
     ]
    },
    {
     "name": "stdout",
     "output_type": "stream",
     "text": [
      "Less than 10\n"
     ]
    }
   ],
   "source": [
    "numb = int(input(\"Enter a number: \"))\n",
    "\n",
    "if numb < 2:\n",
    "    print(\"Less than 2\")\n",
    "elif numb >= 3 and numb > 11:\n",
    "    print(\"3 or greater than 11\")\n",
    "elif numb > 3 or numb <= 10:\n",
    "    print(\"Less than 10\")\n",
    "else:\n",
    "    print(\"Error\")"
   ]
  },
  {
   "cell_type": "markdown",
   "id": "c2ca9441-511f-4d14-9b43-ade71dade7f3",
   "metadata": {},
   "source": [
    "Question 6\n",
    "\n",
    "For the following code, we first prompt the user to enter a sentence and save it in a variable called 'sent'. We then use upper() to convert the sentence to uppercase and concatenate \"!!\" to the end of it. We use the lower() method to convert the sentence to lowercase and concatenate \" - all lower\" to the end of it. Finally, we use the title() method to capitalize the first letter of each word in the sentence and concatenate \" - Proper\". We then print the modified sentences using the print() function."
   ]
  },
  {
   "cell_type": "code",
   "execution_count": 19,
   "id": "f021b3af-5a59-4946-bf13-83e038e27796",
   "metadata": {},
   "outputs": [
    {
     "name": "stdin",
     "output_type": "stream",
     "text": [
      "Enter a sentence:  This is it\n"
     ]
    },
    {
     "name": "stdout",
     "output_type": "stream",
     "text": [
      "THIS IS IT!!\n",
      "this is it - all lower\n",
      "This Is It - Proper\n"
     ]
    }
   ],
   "source": [
    "sent = input(\"Enter a sentence: \")\n",
    "\n",
    "print(sent.upper() + \"!!\")\n",
    "print(sent.lower() + \" - all lower\")\n",
    "print(sent.title() + \" - Proper\")"
   ]
  },
  {
   "cell_type": "markdown",
   "id": "a8a6df0d-cc72-46c6-b83e-d3dae725ed62",
   "metadata": {},
   "source": [
    "Question 7\n",
    "\n",
    "In this code, we first use the input() function to prompt two inputs from the user: their name and their year of birth. We store these inputs in the variables 'name' and 'yearofbirth'. Then, we calculate the user's age by subtracting their birth year from the current year (2022) and store it in the 'age' variable. Finally, we use the print() function to create a sentence that combines the user's name and age using an f-string. "
   ]
  },
  {
   "cell_type": "code",
   "execution_count": 1,
   "id": "35d2b843-6536-407a-baa6-09bdd461fefe",
   "metadata": {},
   "outputs": [
    {
     "name": "stdin",
     "output_type": "stream",
     "text": [
      "Enter your name:  Daniel\n",
      "Enter your year of birth:  2004\n"
     ]
    },
    {
     "name": "stdout",
     "output_type": "stream",
     "text": [
      "Daniel is 18 years old.\n"
     ]
    }
   ],
   "source": [
    "name = input(\"Enter your name: \")\n",
    "yearofbirth = int(input(\"Enter your year of birth: \"))\n",
    "\n",
    "age = 2022 - yearofbirth\n",
    "\n",
    "print(f\"{name} is {age} years old.\")"
   ]
  },
  {
   "cell_type": "markdown",
   "id": "efcde00c-8188-4f7e-9650-9391ece153f7",
   "metadata": {},
   "source": [
    "Question 8\n",
    "\n",
    "We first use the input() function to receive two inputs from the user: their gender and their age. We store these inputs in the variables 'gender' and 'age'. Then, we create two separate if statements. The first checks if the age is less than or equal to 0, and the second checks if the gender entered is either \"male\" or \"female\". If the inputs are valid, we move on to the nested set of conditions. We check the gender first with an outer if statement. Within each branch, we check the age group with a set of if, elif, and else statements. \"underage\" if age < 18, \"adult\" if < 67, and \"senior\" if >= 67. We use the appropriate print statements for each gender and age group combination. If either the age or gender inputs are invalid, we use an appropriate error message for each case: \"Error: You have entered an invalid gender.\""
   ]
  },
  {
   "cell_type": "code",
   "execution_count": 25,
   "id": "a9aa57f3-9e77-4462-9ba8-d089356bb3e8",
   "metadata": {},
   "outputs": [
    {
     "name": "stdin",
     "output_type": "stream",
     "text": [
      "Enter your gender (male or female):  male\n",
      "Enter your age:  18\n"
     ]
    },
    {
     "name": "stdout",
     "output_type": "stream",
     "text": [
      "You are a male adult.\n"
     ]
    }
   ],
   "source": [
    "gender = input(\"Enter your gender (male or female): \")\n",
    "age = int(input(\"Enter your age: \"))\n",
    "\n",
    "if gender == \"male\":\n",
    "    if age < 18:\n",
    "        print(\"You are a male underage.\")\n",
    "    elif age < 67:\n",
    "        print(\"You are a male adult.\")\n",
    "    elif age >= 67:\n",
    "        print(\"You are a male senior.\")\n",
    "    else:\n",
    "        print(\"Error: You have entered a negative number or 0.\")\n",
    "        \n",
    "elif gender == \"female\":\n",
    "    if age < 18:\n",
    "        print(\"You are a female underage.\")\n",
    "    elif age < 67:\n",
    "        print(\"You are a female adult.\")\n",
    "    elif age >= 67:\n",
    "        print(\"You are a female senior.\")\n",
    "    else:\n",
    "        print(\"Error: You have entered a negative number or 0.\")\n",
    "else:\n",
    "    print(\"Error: You have entered an invalid gender.\")"
   ]
  }
 ],
 "metadata": {
  "kernelspec": {
   "display_name": "Python 3 (ipykernel)",
   "language": "python",
   "name": "python3"
  },
  "language_info": {
   "codemirror_mode": {
    "name": "ipython",
    "version": 3
   },
   "file_extension": ".py",
   "mimetype": "text/x-python",
   "name": "python",
   "nbconvert_exporter": "python",
   "pygments_lexer": "ipython3",
   "version": "3.9.13"
  }
 },
 "nbformat": 4,
 "nbformat_minor": 5
}
