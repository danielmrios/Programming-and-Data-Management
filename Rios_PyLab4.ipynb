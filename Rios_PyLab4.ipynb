{
 "cells": [
  {
   "cell_type": "markdown",
   "id": "00205a0a-b1aa-42cb-ac76-1f7d8712d177",
   "metadata": {},
   "source": [
    "Python Lab #4 \n",
    "Daniel Rios "
   ]
  },
  {
   "cell_type": "markdown",
   "id": "eb7175a3-5394-4f6f-a656-8db5f9535139",
   "metadata": {},
   "source": [
    "Question 1\n",
    "\n",
    "This code creates a variable project with a string value of \"Excelsior!\". It then prints the character at index 1 of the string using indexing (which should be \"x\"), followed by the last character of the string using -1 (which should be \"!\")."
   ]
  },
  {
   "cell_type": "code",
   "execution_count": 1,
   "id": "19d50011-7815-46c0-aa5f-8a8f4342afcf",
   "metadata": {},
   "outputs": [
    {
     "name": "stdout",
     "output_type": "stream",
     "text": [
      "x\n",
      "!\n"
     ]
    }
   ],
   "source": [
    "project = \"Excelsior!\"\n",
    "\n",
    "print(project[1])\n",
    "print(project[-1])"
   ]
  },
  {
   "cell_type": "markdown",
   "id": "6e3879b0-2f72-4535-bc04-2135c78477df",
   "metadata": {},
   "source": [
    "Question 2\n",
    "\n",
    "This code takes a string \"Avengers Assemble\" and loops through each character using a for loop. It checks if it's the last character in the string and prints it with \"!\" at the end. For other characters, it just prints them without any separator. The end parameter in the print function is used to concatenate each character without a new line character."
   ]
  },
  {
   "cell_type": "code",
   "execution_count": 11,
   "id": "51a7ac0a-110a-461a-a21c-4820d7b91ddc",
   "metadata": {},
   "outputs": [
    {
     "name": "stdout",
     "output_type": "stream",
     "text": [
      "Avengers Assemble! "
     ]
    }
   ],
   "source": [
    "marvel = \"Avengers Assemble\"\n",
    "\n",
    "for i in range(len(marvel)):\n",
    "    if i == len(marvel) - 1:\n",
    "        print(marvel[i] + \"!\", end=\" \")\n",
    "    else:\n",
    "        print(marvel[i], end= \"\")"
   ]
  },
  {
   "cell_type": "markdown",
   "id": "ce28d92d-6440-4477-a09e-2d92e3c844f0",
   "metadata": {},
   "source": [
    "Question 3\n",
    "\n",
    "This code uses string slicing to create two new variables first and second from an original string school, and then prints out the values of these new variables and the last character of the original string. The code uses slicing with the : operator to extract the first three characters of school into first, and the remaining into second. Then prints the last character of school using the negative index -1."
   ]
  },
  {
   "cell_type": "code",
   "execution_count": 10,
   "id": "84056448-7cd3-4794-9df3-297471116a7e",
   "metadata": {},
   "outputs": [
    {
     "name": "stdout",
     "output_type": "stream",
     "text": [
      "Hog\n",
      "warts\n",
      "s\n"
     ]
    }
   ],
   "source": [
    "school = \"Hogwarts\"\n",
    "\n",
    "first = school[:3]\n",
    "second = school[3:]\n",
    "\n",
    "print(first)\n",
    "print(second)\n",
    "\n",
    "print(school[-1])"
   ]
  },
  {
   "cell_type": "markdown",
   "id": "a63e94f8-77fd-490c-aeb9-e8deef811587",
   "metadata": {},
   "source": [
    "Question 4\n",
    "\n",
    "This code creates a list of US states, modifies the last element of the list by replacing it with \"Idaho\", and prints the updated list and its length."
   ]
  },
  {
   "cell_type": "code",
   "execution_count": 12,
   "id": "72801b36-c875-4ec8-872f-64877959498d",
   "metadata": {},
   "outputs": [
    {
     "name": "stdout",
     "output_type": "stream",
     "text": [
      "['Washington', 'Oregon', 'California', 'Idaho']\n",
      "4\n"
     ]
    }
   ],
   "source": [
    "states = [\"Washington\", \"Oregon\", \"California\", \"Nevada\"]\n",
    "\n",
    "states[-1] = \"Idaho\"\n",
    "\n",
    "print(states)\n",
    "\n",
    "print(len(states))"
   ]
  },
  {
   "cell_type": "markdown",
   "id": "c90691e8-6f0d-4990-a23d-aa0dafd95f9f",
   "metadata": {},
   "source": [
    "Question 5\n",
    "\n",
    "This code defines a list called chars with three elements representing the names of characters on Parks and Rec, it then iterates through each element in the list using a for loop, and prints a statement that includes the name of the character and a string."
   ]
  },
  {
   "cell_type": "code",
   "execution_count": 1,
   "id": "fdc79bad-fae4-4852-aaac-5acd2c099c4b",
   "metadata": {},
   "outputs": [
    {
     "name": "stdout",
     "output_type": "stream",
     "text": [
      "Leslie is a character on Parks and Rec.\n",
      "Tom is a character on Parks and Rec.\n",
      "Ron is a character on Parks and Rec.\n"
     ]
    }
   ],
   "source": [
    "chars = [\"Leslie\", \"Tom\", \"Ron\"]\n",
    "\n",
    "for name in chars:\n",
    "    print(name + \" is a character on Parks and Rec.\")"
   ]
  },
  {
   "cell_type": "markdown",
   "id": "c4510102-6d54-48ab-aa7a-30ac5814cc92",
   "metadata": {},
   "source": [
    "Question 6\n",
    "\n",
    "This code imports the 'random' module and creates a list of 10 random integers between 1 and 10 (inclusive) using a list comprehension. It then uses a while loop to iterate through the list and prints only the values that are divisible by 3."
   ]
  },
  {
   "cell_type": "code",
   "execution_count": 7,
   "id": "a7de01b6-6121-497d-b935-62884794a601",
   "metadata": {},
   "outputs": [
    {
     "name": "stdout",
     "output_type": "stream",
     "text": [
      "6\n",
      "6\n",
      "9\n"
     ]
    }
   ],
   "source": [
    "import random\n",
    "\n",
    "numbers = [random.randint(1, 10) for i in range(10)]\n",
    "\n",
    "i = 0\n",
    "while i < len(numbers):\n",
    "    if numbers[i] % 3 == 0:\n",
    "        print(numbers[i])\n",
    "    i += 1"
   ]
  },
  {
   "cell_type": "markdown",
   "id": "b3818f15-c106-468c-ae0f-43686fac8e2b",
   "metadata": {},
   "source": [
    "Question 7\n",
    "\n",
    "This code defines a function called holList that takes two lists as parameters. Inside the function, the two lists are concatenated into a new list called holidays, and a new list called newHolidays is returned. A for loop is then used to iterate over the items in holidays, and all items except \"Black Friday\" are appended to newHolidays. Outside of the function, two lists are defined and passed into a call to holList."
   ]
  },
  {
   "cell_type": "code",
   "execution_count": 16,
   "id": "51db9431-a267-4958-8832-5340eb6ee505",
   "metadata": {},
   "outputs": [
    {
     "name": "stdout",
     "output_type": "stream",
     "text": [
      "['New Years Day', 'Easter', 'Fourth of July', 'Halloween', 'Thanksgiving', 'Christmas']\n"
     ]
    }
   ],
   "source": [
    "def holList(list1, list2):\n",
    "    holidays = list1 + list2\n",
    "\n",
    "    newHolidays = []\n",
    "\n",
    "    for holiday in holidays:\n",
    "        if holiday != \"Black Friday\":\n",
    "            newHolidays.append(holiday)\n",
    "\n",
    "    return newHolidays\n",
    "\n",
    "list1 = [\"New Years Day\", \"Easter\", \"Fourth of July\"]\n",
    "list2 = [\"Halloween\", \"Thanksgiving\", \"Black Friday\", \"Christmas\"]\n",
    "\n",
    "filteredHolidays = holList(list1, list2)\n",
    "\n",
    "print(filteredHolidays)"
   ]
  },
  {
   "cell_type": "markdown",
   "id": "8e895261-be5e-4558-9025-672bd2c71b80",
   "metadata": {},
   "source": [
    "Question 8\n",
    "\n",
    "Define a list called `cities` with some initial city names. Use the `append` method to add two new city names, \"Miami\" and \"Houston\", to the end of the `cities` list. Use `insert` to add the city name \"Seattle\" to the beginning of the `cities` list, use `insert` again to add the city name \"Boise\" to the 3rd position in the `cities` list. Use `del` to delete the first city in the `cities` list then use `print` to print out the modified `cities` list."
   ]
  },
  {
   "cell_type": "code",
   "execution_count": 18,
   "id": "e17fe79c-cf07-4288-8996-0ec59acfd058",
   "metadata": {},
   "outputs": [
    {
     "name": "stdout",
     "output_type": "stream",
     "text": [
      "['New York', 'Boise', 'Los Angeles', 'Miami', 'Houston']\n"
     ]
    }
   ],
   "source": [
    "cities = [\"New York\", \"Los Angeles\"]\n",
    "\n",
    "cities.append(\"Miami\")\n",
    "cities.append(\"Houston\")\n",
    "\n",
    "cities.insert(0, \"Seattle\")\n",
    "\n",
    "cities.insert(2, \"Boise\")\n",
    "\n",
    "del cities[0]\n",
    "\n",
    "print(cities)"
   ]
  },
  {
   "cell_type": "markdown",
   "id": "ecd4fab1-bd4d-42d5-a7d6-ad4e5b08ab77",
   "metadata": {},
   "source": [
    "Question 9\n",
    "\n",
    "Define a list called `months`, which contains sublists that describe the name and number of days for each month. Use a for loop to iterate over each sublist in `months`, and Within each iteration, extract the month name and number of days from the current sublist and store them in separate variables. Use an f-string to print out a message that combines the month name and number of days."
   ]
  },
  {
   "cell_type": "code",
   "execution_count": 19,
   "id": "a3496fa6-c1f3-446b-9be4-8385af90155e",
   "metadata": {},
   "outputs": [
    {
     "name": "stdout",
     "output_type": "stream",
     "text": [
      "January has 31 days\n",
      "February has 28 days\n",
      "March has 31 days\n",
      "April has 30 days\n",
      "May has 31 days\n",
      "June has 30 days\n"
     ]
    }
   ],
   "source": [
    "months = [[\"January\", 31], [\"February\", 28], [\"March\", 31], [\"April\", 30], [\"May\", 31], [\"June\", 30]]\n",
    "\n",
    "for i in range(len(months)):\n",
    "    month_name = months[i][0]\n",
    "    month_days = months[i][1]\n",
    "    print(f\"{month_name} has {month_days} days\")"
   ]
  },
  {
   "cell_type": "markdown",
   "id": "489a674c-55d6-4fa8-bec8-3fe3d43dd7c1",
   "metadata": {},
   "source": [
    "Question 10\n",
    "\n",
    "Define a dictionary called `dog` with values that describe a dog. Print out the entire `dog` dictionary, then print out the value associated with the key \"Breed\" in the `dog` dictionary. Use an f string to print out a message that combines the values associated with the \"Breed\" and \"Age Exp.\" keys in the `dog` dictionary."
   ]
  },
  {
   "cell_type": "code",
   "execution_count": 20,
   "id": "b22190a3-3970-459a-aaa5-9b1ba4cf1f1f",
   "metadata": {},
   "outputs": [
    {
     "name": "stdout",
     "output_type": "stream",
     "text": [
      "{'Breed': 'Corgi', 'Age Exp.': 13, 'Type': 'Cattle herding'}\n",
      "Corgi\n",
      "The Corgi is expected to live about 13 years.\n"
     ]
    }
   ],
   "source": [
    "dog = {\"Breed\": \"Corgi\", \"Age Exp.\": 13, \"Type\": \"Cattle herding\"}\n",
    "\n",
    "print(dog)\n",
    "\n",
    "print(dog[\"Breed\"])\n",
    "\n",
    "print(f\"The {dog['Breed']} is expected to live about {dog['Age Exp.']} years.\")"
   ]
  },
  {
   "cell_type": "markdown",
   "id": "22be0210-1d58-40db-9c12-f81d083ca277",
   "metadata": {},
   "source": [
    "Question 11\n",
    "\n",
    "Define a dictionary called 'scores' with some initial name-score pairs. Define two functions, `addChangeScore` and `delScore`, that can be used to add/change or delete a score for a name in the `scores` dictionary. Call `addChangeScore` to add a new score for \"Joel\" and to change the score for \"Jeff\". Call `delScore` to delete the score for \"Hannah\". Use a for loop to iterate over the `scores` dictionary and print out each name to score pair."
   ]
  },
  {
   "cell_type": "code",
   "execution_count": 23,
   "id": "cd0001a2-63d0-4836-b528-54aea89df0a6",
   "metadata": {},
   "outputs": [
    {
     "name": "stdout",
     "output_type": "stream",
     "text": [
      "Jeff 79\n",
      "Chris 59\n",
      "Michelle 99\n",
      "Joel 78\n"
     ]
    }
   ],
   "source": [
    "scores = {\"Jeff\": 90, \"Chris\": 59, \"Hannah\": 88, \"Michelle\": 99}\n",
    "\n",
    "def addChangeScore(name, score):\n",
    "    scores[name] = score\n",
    "\n",
    "def delScore(name):\n",
    "    del scores[name]\n",
    "    \n",
    "addChangeScore(\"Joel\", 78)\n",
    "\n",
    "addChangeScore(\"Jeff\", 79)\n",
    "\n",
    "delScore(\"Hannah\")\n",
    "\n",
    "for name, score in scores.items():\n",
    "    print(name, score)"
   ]
  },
  {
   "cell_type": "markdown",
   "id": "7bd7336c-041a-4ed9-8ec7-5c55ca20d730",
   "metadata": {},
   "source": [
    "Question 12\n",
    "\n",
    "Create two lists, `names` and `ages`, and an empty dictionary, `persons`. Use a for loop to iterate over the `names` and `ages` lists and add each name as a key and its corresponding age as the value to the `persons`. Then print the `persons` to see the result."
   ]
  },
  {
   "cell_type": "code",
   "execution_count": 26,
   "id": "bedb77a0-61b7-45da-9893-47047f02fae3",
   "metadata": {},
   "outputs": [
    {
     "name": "stdout",
     "output_type": "stream",
     "text": [
      "{'Jasper': 23, 'Sam': 28, 'Meredith': 20, 'Chris': 30}\n"
     ]
    }
   ],
   "source": [
    "names = ['Jasper', 'Sam', 'Meredith', 'Chris']\n",
    "ages = [23, 28, 20, 30]\n",
    "\n",
    "persons = {}\n",
    "\n",
    "for p in range(len(names)):\n",
    "    persons[names[p]] = ages[p]\n",
    "\n",
    "print(persons)"
   ]
  },
  {
   "cell_type": "markdown",
   "id": "869f7e89-f093-4df3-a1ec-178a8bc91932",
   "metadata": {},
   "source": [
    "Question 13\n",
    "\n",
    "Loop through the scores dictionary and check if each score is greater than 60. If a score is greater than 60, print \"(name) passed the test.\" If a score isn't greater than 60, print \"(name) did not pass the test.\""
   ]
  },
  {
   "cell_type": "code",
   "execution_count": 27,
   "id": "3fe528bf-8204-48c5-9ef5-0ac6556a7af0",
   "metadata": {},
   "outputs": [
    {
     "name": "stdout",
     "output_type": "stream",
     "text": [
      "Jeff passed the test.\n",
      "Chris did not pass the test.\n",
      "Hannah passed the test.\n",
      "Michelle passed the test.\n"
     ]
    }
   ],
   "source": [
    "scores = {\"Jeff\": 90, \"Chris\": 59, \"Hannah\": 88, \"Michelle\": 99}\n",
    "\n",
    "for name, score in scores.items():\n",
    "    if score > 60:\n",
    "        print(f\"{name} passed the test.\")\n",
    "    else:\n",
    "        print(f\"{name} did not pass the test.\")"
   ]
  }
 ],
 "metadata": {
  "kernelspec": {
   "display_name": "Python 3 (ipykernel)",
   "language": "python",
   "name": "python3"
  },
  "language_info": {
   "codemirror_mode": {
    "name": "ipython",
    "version": 3
   },
   "file_extension": ".py",
   "mimetype": "text/x-python",
   "name": "python",
   "nbconvert_exporter": "python",
   "pygments_lexer": "ipython3",
   "version": "3.9.13"
  }
 },
 "nbformat": 4,
 "nbformat_minor": 5
}
