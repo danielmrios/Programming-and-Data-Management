{
 "cells": [
  {
   "cell_type": "markdown",
   "id": "25e8439c-0ab8-4559-a189-fe19ec71fd99",
   "metadata": {},
   "source": [
    "Python Lab #5 Daniel Rios "
   ]
  },
  {
   "cell_type": "markdown",
   "id": "7008a172-d5aa-46ba-a412-c88f08b7dfe1",
   "metadata": {},
   "source": [
    "Question 1\n",
    "\n",
    "Open the file \"Data/DontQuit.txt\" in read mode using a with statement. Print the first line from the file using the readline() method of the file object."
   ]
  },
  {
   "cell_type": "code",
   "execution_count": 1,
   "id": "6df71531-43e5-47cc-8e26-c830aca7a3e5",
   "metadata": {},
   "outputs": [
    {
     "name": "stdout",
     "output_type": "stream",
     "text": [
      "When things go wrong, as they sometimes will,\n",
      "\n"
     ]
    }
   ],
   "source": [
    "with open(\"Data/DontQuit.txt\", \"r\") as reader:\n",
    "    print(reader.readline())"
   ]
  },
  {
   "cell_type": "markdown",
   "id": "33100b0d-1b39-4287-afc2-d910de59238e",
   "metadata": {},
   "source": [
    "Question 2\n",
    "\n",
    "Open the file \"Data/DontQuit.txt\" in read mode using a with statement, automatically closing the file when the block is exited. Read the first line from the file and assign it to the variable \"line\". Use a while loop to read each subsequent line from the file until the end of the file is reached. Print the current line without a newline character at the end using the end='' parameter of the print function. Print a newline character after all lines have been printed."
   ]
  },
  {
   "cell_type": "code",
   "execution_count": 3,
   "id": "25df7489-3cb9-4d2e-b98e-4053760a8d25",
   "metadata": {},
   "outputs": [
    {
     "name": "stdout",
     "output_type": "stream",
     "text": [
      "When things go wrong, as they sometimes will,\n",
      "When the road youre trudging seems all uphill,\n",
      "When the funds are low but the debts are high,\n",
      "And you want to smile but you have to sigh,\n",
      "When care is pressing you down a bit...\n",
      "Rest if you must, but don't you quit!\n",
      "\n",
      "Life is queer with its twists and turns,\n",
      "As every one of us sometimes learns,\n",
      "And many failures turn about\n",
      "When we might have won had we stuck it out.\n",
      "Don't give up though the pace seems slow...\n",
      "You may succeed with another blow.\n",
      "\n",
      "Often the struggler has given up\n",
      "When he might have captured the victors cup;\n",
      "And he learned too late when the night came down,\n",
      "How close he was to the golden crown.\n",
      "\n",
      "Success is failure turned inside out...\n",
      "And you can never tell how close you are\n",
      "It may be near when it seems so far.\n",
      "So stick to the fight when you’re hardest hit\n",
      "It’s when things seem worst that you must not quit.\n",
      "\n"
     ]
    }
   ],
   "source": [
    "with open(\"Data/DontQuit.txt\", \"r\") as reader:\n",
    "    line = reader.readline()\n",
    "    \n",
    "    while line != '':\n",
    "        print(line, end= '')\n",
    "        line = line = reader.readline()\n",
    "        \n",
    "print(\"\\n\")"
   ]
  },
  {
   "cell_type": "markdown",
   "id": "b20523c3-d4d6-4b15-9a13-00206a05283f",
   "metadata": {},
   "source": [
    "Question 3\n",
    "\n",
    "This code will read all the lines from the file \"DontQuit.txt\" into a list, and iterate through the list using a for loop. In each iteration, it will check if the word \"Life\" is present in the current line using the in keyword. If it is, the line will be printed."
   ]
  },
  {
   "cell_type": "code",
   "execution_count": 7,
   "id": "36643ec7-c960-4ecb-9b08-7b17b4bb4fcb",
   "metadata": {},
   "outputs": [
    {
     "name": "stdout",
     "output_type": "stream",
     "text": [
      "Life is queer with its twists and turns,\n",
      "\n"
     ]
    }
   ],
   "source": [
    "with open(\"Data/DontQuit.txt\", \"r\") as reader:\n",
    "    lines = reader.readlines()\n",
    "\n",
    "for line in lines:\n",
    "    if \"Life\" in line:\n",
    "        print(line)"
   ]
  },
  {
   "cell_type": "markdown",
   "id": "01472d59-3801-49b0-a466-3d7de1abefd1",
   "metadata": {},
   "source": [
    "Question 4\n",
    "\n",
    "Create a list with the strings: \"Please excuse my dear Aunt Sally\", \"Roy G. Biv\". Open a new file called famousSayings.txt in write mode using a with statement as reader. Write the line \"My very excited mother just served us nine pies.\" to the file. Open the file famousSayings.txt in read mode using a with statement, use a for loop to iterate over each line in the file and print it."
   ]
  },
  {
   "cell_type": "code",
   "execution_count": 41,
   "id": "fa4429f1-16cc-455e-b2fe-055bd1f537df",
   "metadata": {},
   "outputs": [
    {
     "name": "stdout",
     "output_type": "stream",
     "text": [
      "My very excited mother just served us nine pies.\n",
      "Please excuse my dear Aunt Sally\n",
      "Roy G. Biv\n"
     ]
    }
   ],
   "source": [
    "sayings = [\"Please excuse my dear Aunt Sally\", \"Roy G. Biv\"]\n",
    "\n",
    "with open(\"Data/famousSayings.txt\", \"w+\") as writer:\n",
    "    writer.write(\"My very excited mother just served us nine pies.\\n\")\n",
    "    \n",
    "    for saying in sayings:\n",
    "        writer.write(saying + \"\\n\")\n",
    "\n",
    "with open(\"Data/famousSayings.txt\", \"r\") as reader:\n",
    "    for line in reader:\n",
    "        print(line, end='')"
   ]
  },
  {
   "cell_type": "markdown",
   "id": "ed73cc1b-c7a3-44c5-bf19-f577ea80d078",
   "metadata": {},
   "source": [
    "Question 5\n",
    "\n",
    "Open the file famousSayings.txt in append mode using a with statement, which automatically closes the file when the block is exited. Append the line \"Will a jolly man make a jolly visitor?\" to the file. Open the file famousSayings.txt in read mode using a with statement. Use a for loop to iterate over each line in the file and print it to the console."
   ]
  },
  {
   "cell_type": "code",
   "execution_count": 32,
   "id": "48882c6c-4fd6-4027-be36-2c8349e925bc",
   "metadata": {},
   "outputs": [
    {
     "name": "stdout",
     "output_type": "stream",
     "text": [
      "My very excited mother just served us nine pies.\n",
      "Please excuse my dear Aunt Sally\n",
      "Roy G. Biv\n",
      "Will a jolly man make a jolly visitor?\n"
     ]
    }
   ],
   "source": [
    "with open(\"Data/famousSayings.txt\", \"a+\") as statement:\n",
    "    statement.write(\"Will a jolly man make a jolly visitor?\\n\")\n",
    "\n",
    "with open(\"Data/famousSayings.txt\", \"r\") as reader:\n",
    "    for line in reader:\n",
    "        print(line, end='')"
   ]
  },
  {
   "cell_type": "markdown",
   "id": "d7c53c37-93f1-4b60-b343-5a57cd1cf2fe",
   "metadata": {},
   "source": [
    "Question 6\n",
    "\n",
    "Open the file SalesJan2009.csv in read mode using a with statement. Create an empty list to hold the values from the PRICE column. Iterate over each line in the file and split the line into a list of values. Append the value from the PRICE column to the amtCollected list. Calculate the total of the values in the amtCollected list, then calculate the average of the values in the amtCollected list. Print the total and average."
   ]
  },
  {
   "cell_type": "code",
   "execution_count": 7,
   "id": "589bb26c-9c2f-4803-8835-eb4886db2bfa",
   "metadata": {},
   "outputs": [
    {
     "name": "stdout",
     "output_type": "stream",
     "text": [
      "Total is $1630500.0\n",
      "Average price is $1633.7675350701402\n"
     ]
    }
   ],
   "source": [
    "with open(\"Data/SalesJan2009.csv\", \"r\") as file:\n",
    "    amtCollected = []\n",
    "    \n",
    "    headers = file.readline()\n",
    "\n",
    "    for line in file:\n",
    "        values = line.split(\",\")\n",
    "        \n",
    "        amtCollected.append(float(values[2]))\n",
    "        \n",
    "    total = sum(amtCollected)\n",
    "  \n",
    "    avg = total / len(amtCollected)\n",
    "    '''\n",
    "    print(\"Total is $%.2f\" % total)\n",
    "    print(\"Average price is $%.2f\" % avg)\n",
    "    '''\n",
    "print(f\"Total is ${total}\")\n",
    "print(f\"Average price is ${avg}\")"
   ]
  },
  {
   "cell_type": "markdown",
   "id": "97883341-399f-445a-9c17-21faf61a09de",
   "metadata": {},
   "source": [
    "Question 7\n",
    "\n",
    "Write the DogWeights data to a csv file using with open and writeheader. Then read and print the data from the DogWeights csv file using a FOR loop."
   ]
  },
  {
   "cell_type": "code",
   "execution_count": 50,
   "id": "9002fe2b-35bd-4e7d-914a-948e1fa80459",
   "metadata": {},
   "outputs": [
    {
     "name": "stdout",
     "output_type": "stream",
     "text": [
      "Name,Weight\n",
      "Spot,53\n",
      "Sadie,22\n",
      "Sammie,24\n",
      "Jasper,45\n"
     ]
    }
   ],
   "source": [
    "import csv \n",
    "\n",
    "with open(\"Data/DogWeights.csv\", \"w+\", newline='') as csv_file:\n",
    "    fieldnames = ['Name', 'Weight']\n",
    "    writer = csv.DictWriter(csv_file, fieldnames = fieldnames)\n",
    "    \n",
    "    writer.writeheader()\n",
    "    writer.writerow({'Name': 'Spot', 'Weight': 53})\n",
    "    writer.writerow({'Name': 'Sadie', 'Weight': 22})\n",
    "    writer.writerow({'Name': 'Sammie', 'Weight': 24})\n",
    "    writer.writerow({'Name': 'Jasper', 'Weight': 45})\n",
    "    \n",
    "with open('Data/DogWeights.csv', mode='r+') as csv_file:\n",
    "    csv_reader = csv.DictReader(csv_file)\n",
    "    print(\"Name,Weight\")\n",
    "    for row in csv_reader:\n",
    "        print(f\"{row['Name']},{row['Weight']}\")"
   ]
  }
 ],
 "metadata": {
  "kernelspec": {
   "display_name": "Python 3 (ipykernel)",
   "language": "python",
   "name": "python3"
  },
  "language_info": {
   "codemirror_mode": {
    "name": "ipython",
    "version": 3
   },
   "file_extension": ".py",
   "mimetype": "text/x-python",
   "name": "python",
   "nbconvert_exporter": "python",
   "pygments_lexer": "ipython3",
   "version": "3.9.13"
  }
 },
 "nbformat": 4,
 "nbformat_minor": 5
}
